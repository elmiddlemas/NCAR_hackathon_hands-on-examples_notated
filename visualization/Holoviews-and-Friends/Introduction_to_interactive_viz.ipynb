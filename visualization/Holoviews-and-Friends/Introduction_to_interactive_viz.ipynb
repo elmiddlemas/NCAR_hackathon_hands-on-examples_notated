{
 "cells": [
  {
   "cell_type": "markdown",
   "metadata": {
    "slideshow": {
     "slide_type": "slide"
    }
   },
   "source": [
    "<center>\n",
    "<h1> Beyond Matplotlib: Building Interactive Climate Data Visualizations with Holoviews and Friends </h1>\n",
    "\n",
    "<br>\n",
    "<img src=\"./img/hv-gv-bk-hvplot.png\" width=\"50%\" style=\"margin: 0px 25%\">\n",
    "\n",
    "\n",
    "<center>\n",
    "    \n",
    " "
   ]
  },
  {
   "cell_type": "markdown",
   "metadata": {
    "slideshow": {
     "slide_type": "slide"
    }
   },
   "source": [
    "## Getting Help with Holoviews, Geoviews, Bokeh, Hvplot\n",
    "\n",
    "\n",
    "Here are some important resources for learning more about Holoviews, Geoviews, Bokeh, Hvplot and getting help.\n",
    "\n",
    "- [Holoviews Documentation](http://holoviews.org/)\n",
    "- [Geoviews Documentation](http://geoviews.org/)\n",
    "- [Hvplot Documentation](https://hvplot.pyviz.org)\n",
    "- [Bokeh Documentation](https://bokeh.pydata.org/en/latest/)\n",
    "- [Xarray Documentation](http://xarray.pydata.org/en/latest/)\n",
    "- [NCAR Hackathons Visualization Guide](https://ncar-hackathons.github.io/visualization)\n",
    "- [Holoviews GitHub Issue Tracker](https://github.com/pyviz/holoviews/issues)\n",
    "- [Holoviews questions on StackOverflow](https://stackoverflow.com/questions/tagged/holoviews)\n"
   ]
  },
  {
   "cell_type": "markdown",
   "metadata": {
    "slideshow": {
     "slide_type": "slide"
    }
   },
   "source": [
    "## Learning Objectives\n",
    "\n",
    "In this tutorial we will explore these newer tools for building interactive plots, supported by Anaconda: \n",
    "\n",
    "* [**Bokeh**](http://bokeh.pydata.org): Interactive plotting in web browsers, running JavaScript but controlled by Python\n",
    "* [**HoloViews**](http://holoviews.org): Declarative objects for instantly visualizable data, building Bokeh plots from convenient high-level specifications\n",
    "* [**GeoViews**](http://geo.holoviews.org): Visualizable geographic data that that can be mixed and matched with HoloViews objects\n",
    "\n",
    "* [**Hvplot**](https://hvplot.pyviz.org/index.html): A high-level plotting API for the PyData ecosystem built on HoloViews.\n",
    "\n",
    "This tutorial will introduce HoloViews and guide you through the process of building rich, deployable visualizations based on Bokeh, and (briefly) matplotlib.\n",
    "\n",
    "When using HoloViews, the focus is on bundling your data together with the appropriate metadata to support both analysis and plotting, making your raw data and its visualization equally accessible at all times. \n"
   ]
  },
  {
   "cell_type": "markdown",
   "metadata": {
    "slideshow": {
     "slide_type": "subslide"
    }
   },
   "source": [
    "## Workflow from data to decision\n",
    "<img src=\"./img/workflow.png\" width=40% align=\"left\" style=\"margin: 0px 20px\">\n",
    "<br>\n",
    "If there's no visualization at any of these stages, you're flying blind.<br><br>\n",
    "\n",
    "What if it were simple to visualize anything, anywhere?\n",
    "\n",
    "<br><br><br><small>(adapted from James A. Bednar)"
   ]
  },
  {
   "cell_type": "markdown",
   "metadata": {
    "slideshow": {
     "slide_type": "subslide"
    }
   },
   "source": [
    "<img src=\"./img/landscape_hv_nx.png\" width=65% align=\"left\" style=\"margin: 0px 30px\">\n",
    "\n",
    "## Good news:<br><br>Lots of choices!\n",
    "<br><br><br><small>(adapted from Jake VanderPlas)"
   ]
  },
  {
   "cell_type": "markdown",
   "metadata": {
    "slideshow": {
     "slide_type": "subslide"
    }
   },
   "source": [
    "<img src=\"./img/landscape_hv_nx.png\" width=65% align=\"left\" style=\"margin: 0px 30px\">\n",
    "\n",
    "## Bad news:<br><br>Lots of choices = Choice Paralysis!\n",
    "<br><br>\n",
    "Too hard to\n",
    "try them all,\n",
    "learn them all, or \n",
    "get them to work together."
   ]
  },
  {
   "cell_type": "markdown",
   "metadata": {
    "slideshow": {
     "slide_type": "subslide"
    }
   },
   "source": [
    "<img src=\"./img/landscape_hv_nx_pyviz.png\" width=65% align=\"left\" style=\"margin: 0px 30px\">\n",
    "\n",
    "## This Tutorial:\n",
    "<br><br>\n",
    "Explore seamless interoperability<br>for browser-based<br>viz tools\n"
   ]
  },
  {
   "cell_type": "code",
   "execution_count": null,
   "metadata": {
    "slideshow": {
     "slide_type": "slide"
    }
   },
   "outputs": [],
   "source": [
    "import warnings\n",
    "warnings.filterwarnings('ignore')\n",
    "import xarray as xr\n",
    "import numpy as np\n",
    "import holoviews as hv\n",
    "import geoviews as gv\n",
    "import hvplot.xarray \n",
    "hv.extension('bokeh')"
   ]
  },
  {
   "cell_type": "markdown",
   "metadata": {
    "slideshow": {
     "slide_type": "subslide"
    }
   },
   "source": [
    "Here we import the NumPy and Xarray libraries with their standard abbreviations, plus Geoviews, HoloViews with theri standard aliases. The line reading `hv.extension('bokeh')` loads and activates the bokeh plotting backend, so all visualizations will be generated using Bokeh. "
   ]
  },
  {
   "cell_type": "markdown",
   "metadata": {
    "slideshow": {
     "slide_type": "subslide"
    }
   },
   "source": [
    "## 0. Load Monthly Sea Surface Temperature"
   ]
  },
  {
   "cell_type": "code",
   "execution_count": null,
   "metadata": {
    "slideshow": {
     "slide_type": "fragment"
    }
   },
   "outputs": [],
   "source": [
    "\n",
    "ds = xr.open_mfdataset(\"../../datasets/sst/*.nc\").load()\n",
    "sst = ds.sst\n",
    "ds"
   ]
  },
  {
   "cell_type": "markdown",
   "metadata": {
    "slideshow": {
     "slide_type": "subslide"
    }
   },
   "source": [
    "## 1. Create a Quick-look Contour-filled Plot with Hvplot"
   ]
  },
  {
   "cell_type": "code",
   "execution_count": null,
   "metadata": {
    "slideshow": {
     "slide_type": "fragment"
    }
   },
   "outputs": [],
   "source": [
    "sst.hvplot(x='lon', y='lat', z='sst', kind='contourf', global_extent=True)"
   ]
  },
  {
   "cell_type": "markdown",
   "metadata": {
    "slideshow": {
     "slide_type": "subslide"
    }
   },
   "source": [
    "## 2. Customize Visual Appearance\n",
    "\n",
    "Let's \n",
    "\n",
    "- specificy projection\n",
    "- set levels for the contours\n",
    "- specify a custom colormap\n",
    "- create an overlay of a map plot with some features (grid, coastline) \n",
    "- Create a movie!!"
   ]
  },
  {
   "cell_type": "code",
   "execution_count": null,
   "metadata": {
    "slideshow": {
     "slide_type": "subslide"
    }
   },
   "outputs": [],
   "source": [
    "levels = np.linspace(start=sst.min(), stop=sst.max(), num=15)\n",
    "levels"
   ]
  },
  {
   "cell_type": "code",
   "execution_count": null,
   "metadata": {
    "slideshow": {
     "slide_type": "fragment"
    }
   },
   "outputs": [],
   "source": [
    "import cartopy\n",
    "import cartopy.crs as ccrs\n",
    "import cmocean # For color maps"
   ]
  },
  {
   "cell_type": "code",
   "execution_count": null,
   "metadata": {
    "slideshow": {
     "slide_type": "fragment"
    }
   },
   "outputs": [],
   "source": [
    "plot = sst.hvplot(x='lon', y='lat', z='sst', kind='contourf', levels=levels, \n",
    "                  cmap=cmocean.cm.thermal, \n",
    "                  projection=ccrs.Robinson(central_longitude=300.))"
   ]
  },
  {
   "cell_type": "code",
   "execution_count": null,
   "metadata": {
    "slideshow": {
     "slide_type": "fragment"
    }
   },
   "outputs": [],
   "source": [
    "plot.opts(colorbar_position='right', colorbar_opts={'title': '°C'})"
   ]
  },
  {
   "cell_type": "code",
   "execution_count": null,
   "metadata": {
    "slideshow": {
     "slide_type": "subslide"
    }
   },
   "outputs": [],
   "source": [
    "plot * gv.feature.grid"
   ]
  },
  {
   "cell_type": "code",
   "execution_count": null,
   "metadata": {
    "slideshow": {
     "slide_type": "subslide"
    }
   },
   "outputs": [],
   "source": [
    "plot * gv.feature.coastline "
   ]
  },
  {
   "cell_type": "code",
   "execution_count": null,
   "metadata": {
    "slideshow": {
     "slide_type": "subslide"
    }
   },
   "outputs": [],
   "source": [
    "plot * gv.feature.land(fill_color='green')"
   ]
  },
  {
   "cell_type": "markdown",
   "metadata": {
    "slideshow": {
     "slide_type": "subslide"
    }
   },
   "source": [
    "**Putting it all together…**"
   ]
  },
  {
   "cell_type": "code",
   "execution_count": null,
   "metadata": {
    "scrolled": true,
    "slideshow": {
     "slide_type": "fragment"
    }
   },
   "outputs": [],
   "source": [
    "final_plot = plot * gv.feature.grid * gv.feature.coastline * gv.feature.land(fill_color='green')\n",
    "final_plot"
   ]
  },
  {
   "cell_type": "code",
   "execution_count": null,
   "metadata": {
    "slideshow": {
     "slide_type": "subslide"
    }
   },
   "outputs": [],
   "source": [
    "%output holomap='scrubber' fps=11\n",
    "final_plot"
   ]
  },
  {
   "cell_type": "code",
   "execution_count": null,
   "metadata": {},
   "outputs": [],
   "source": []
  }
 ],
 "metadata": {
  "celltoolbar": "Slideshow",
  "kernelspec": {
   "display_name": "Python 3",
   "language": "python",
   "name": "python3"
  },
  "language_info": {
   "codemirror_mode": {
    "name": "ipython",
    "version": 3
   },
   "file_extension": ".py",
   "mimetype": "text/x-python",
   "name": "python",
   "nbconvert_exporter": "python",
   "pygments_lexer": "ipython3",
   "version": "3.6.7"
  },
  "toc": {
   "nav_menu": {},
   "number_sections": false,
   "sideBar": true,
   "skip_h1_title": false,
   "title_cell": "Table of Contents",
   "title_sidebar": "Contents",
   "toc_cell": false,
   "toc_position": {},
   "toc_section_display": true,
   "toc_window_display": false
  }
 },
 "nbformat": 4,
 "nbformat_minor": 2
}
