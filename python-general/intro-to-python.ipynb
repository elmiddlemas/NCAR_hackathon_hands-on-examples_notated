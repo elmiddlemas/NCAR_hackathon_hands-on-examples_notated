{
 "cells": [
  {
   "cell_type": "markdown",
   "metadata": {
    "slideshow": {
     "slide_type": "slide"
    }
   },
   "source": [
    "# Introduction to Python Programming\n",
    "\n",
    "\n",
    "Before we embark down the road of learning Python, I will leave you with this xkcd comic: https://xkcd.com/353/\n",
    "\n",
    "\n",
    "<img src=\"./img/xkcd_python.png\" alt=\"python Xkcd\" style=\"display:center; margin-left: auto; margin-right: auto;\">\n",
    "\n"
   ]
  },
  {
   "cell_type": "markdown",
   "metadata": {
    "slideshow": {
     "slide_type": "slide"
    }
   },
   "source": [
    "## Getting Help with Python\n",
    "\n",
    "Here are some important resources for learning more about Python and getting help.\n",
    "\n",
    "- [Python Documentation](https://docs.python.org/3)\n",
    "- [Python Official Tutorial](https://docs.python.org/3/tutorial/)\n",
    "- [NCAR Hackathons Python Guide](https://ncar-hackathons.github.io/python-general)\n",
    "- [Python questions on StackOverflow](https://stackoverflow.com/questions/tagged/python)\n"
   ]
  },
  {
   "cell_type": "markdown",
   "metadata": {
    "slideshow": {
     "slide_type": "slide"
    }
   },
   "source": [
    "## Learning Objectives\n",
    "\n",
    "\n",
    "1. What is Python?\n",
    "2. Why Take the Time and Energy to Make the Switch to Python?\n",
    "3. The Basics of Python\n",
    "4. Whetting your Appetite for Python\n",
    "\n"
   ]
  },
  {
   "cell_type": "markdown",
   "metadata": {
    "slideshow": {
     "slide_type": "slide"
    }
   },
   "source": [
    "## What Is Python?\n",
    "\n"
   ]
  },
  {
   "cell_type": "markdown",
   "metadata": {
    "slideshow": {
     "slide_type": "fragment"
    }
   },
   "source": [
    "- Python is a general purpose, high-level programming language.\n"
   ]
  },
  {
   "cell_type": "markdown",
   "metadata": {
    "slideshow": {
     "slide_type": "fragment"
    }
   },
   "source": [
    "- Python is **interpretted**, like NCL, IDL or Matlab, so you don’t need to compile your code for it to run. "
   ]
  },
  {
   "cell_type": "markdown",
   "metadata": {
    "slideshow": {
     "slide_type": "subslide"
    }
   },
   "source": [
    "- Python is different from other languages in that the primary focuses are to increase:\n",
    "  - **readability**: ( something that is very important for scientific fileds since scientists tend to share code with the community)\n",
    "  - **productivity**: Python is designed is designed (from the ground up) to do a lot with very little typing/code. \n",
    "  - **extendability**: through third-party libraries (which include very powerful scientific computing utilities similar to those found in proprietary software like IDL, MATLAB, and Mathematica). Almost anything you can imagine doing in Python, someone has already done it in some way – you just have to wade through internet to figure out how to do it. <img src=\"./img/pypi.png\" alt=\"pypi\" style=\"display:center; height:150px; width:480px; margin-left: auto; margin-right: auto;\">  <br>As of May 30/2019, there are **182,145** registered Python packages on the Python package index (PyPI) https://pypi.org/\n",
    "  - **portability**: most programs will run cross-platform and work on a variety systems seamlessly."
   ]
  },
  {
   "cell_type": "markdown",
   "metadata": {
    "slideshow": {
     "slide_type": "fragment"
    }
   },
   "source": [
    "- Python is regarded as object-oriented in terms of a programming paradigm rather than procedural (However, Python can be used in a procedural sense and is often used as a scripting language over traditional shell scripting)"
   ]
  },
  {
   "cell_type": "markdown",
   "metadata": {
    "slideshow": {
     "slide_type": "slide"
    }
   },
   "source": [
    "## Why Take the Time and Energy to Make the Switch to Python?\n",
    "\n",
    "The question you are most likely asking yourself is **why take the time and energy to make the switch to Python**. I would argue that the amount of time and energy Python will save you is well worth the switch. Since that isn't a convincing enough argument, I will list some of the benefits:"
   ]
  },
  {
   "cell_type": "markdown",
   "metadata": {
    "slideshow": {
     "slide_type": "fragment"
    }
   },
   "source": [
    "- It is **free and open source!!** Python and the Python packages used for scientific computing and other tasks are completely **free**. This makes code sharing easier because you eliminate the need for proprietary licenses even for commercial purposes.\n"
   ]
  },
  {
   "cell_type": "markdown",
   "metadata": {
    "slideshow": {
     "slide_type": "fragment"
    }
   },
   "source": [
    "- The **documentation** and **examples** are extensive because Python is so widely used by computer scientists and researchers alike."
   ]
  },
  {
   "cell_type": "markdown",
   "metadata": {
    "slideshow": {
     "slide_type": "subslide"
    }
   },
   "source": [
    "- Python can run **legacy code** either via its scripting language abilities or third-party utilities which can run/extend programs written in specific languages like **GrADS**, **NCL**, etc.\n"
   ]
  },
  {
   "cell_type": "markdown",
   "metadata": {
    "slideshow": {
     "slide_type": "fragment"
    }
   },
   "source": [
    "- Python has third-party packages for most if not all of the data formats used in Geo sciences (NetCDF 3/4, HDF 4/5, GRIB 1/2, Shapefile, Binary, ASCII, etc)"
   ]
  },
  {
   "cell_type": "markdown",
   "metadata": {
    "slideshow": {
     "slide_type": "fragment"
    }
   },
   "source": [
    "- Python is actually **fun** to use once you get started. (You'll have to take my word on this one.)"
   ]
  },
  {
   "cell_type": "markdown",
   "metadata": {
    "slideshow": {
     "slide_type": "slide"
    }
   },
   "source": [
    "## Is Python the be all that ends all? \n",
    "\n"
   ]
  },
  {
   "cell_type": "markdown",
   "metadata": {
    "slideshow": {
     "slide_type": "fragment"
    }
   },
   "source": [
    "- It depends on your application. For hardcore numerical computations, Fortran/C/C++ will be much faster. However, Python can send Fortran/C/C++ code data and retrieve the results through one of the third-party utilities. This seems to indicate that **with Python the sky's the limit**. "
   ]
  },
  {
   "cell_type": "markdown",
   "metadata": {
    "slideshow": {
     "slide_type": "fragment"
    }
   },
   "source": [
    "- In addition, there is a growing list of projects whose goal is to make Python code fast\n",
    "<div style=\"float:right; height:150 px\">\n",
    "    <img src=\"./img/numba.png\" alt=\"Numba Logo\" style=\"height: 150px;\">\n",
    "</div> \n",
    "\n",
    "  - Numba: Python Just-In-Time compiler: http://numba.pydata.org/\n",
    "  - Cython: C-extension designed to give C-like performance with code that is written mostly in Python with optional additional C-inspired syntax: https://cython.org/\n",
    " \n"
   ]
  },
  {
   "cell_type": "markdown",
   "metadata": {
    "slideshow": {
     "slide_type": "slide"
    }
   },
   "source": [
    "## The Zen of Python\n",
    "The Zen of Python by Tim Peters are  guidelines for the design of the Python language. Your Python code doesn’t necessarily have to follow these guidelines, but they’re good to keep in mind. \n",
    "The Zen of Python is an Easter egg, or hidden joke, that appears if you run `import this`:"
   ]
  },
  {
   "cell_type": "code",
   "execution_count": null,
   "metadata": {
    "slideshow": {
     "slide_type": "fragment"
    }
   },
   "outputs": [],
   "source": [
    "import this"
   ]
  },
  {
   "cell_type": "markdown",
   "metadata": {
    "slideshow": {
     "slide_type": "slide"
    }
   },
   "source": [
    "## The Basics of Python"
   ]
  },
  {
   "cell_type": "code",
   "execution_count": null,
   "metadata": {
    "slideshow": {
     "slide_type": "fragment"
    }
   },
   "outputs": [],
   "source": [
    "print(\"Hello,  World!\")"
   ]
  },
  {
   "cell_type": "markdown",
   "metadata": {
    "slideshow": {
     "slide_type": "fragment"
    }
   },
   "source": [
    "### Coding Style"
   ]
  },
  {
   "cell_type": "markdown",
   "metadata": {
    "slideshow": {
     "slide_type": "subslide"
    }
   },
   "source": [
    "Unlike other languages, Python is rather strict about its coding standards. This goes back to the readability focus of the language discussed in the [What is Python](#What-Is-Python?) section of the Introduction. Writing readable code is always a good skill to have especially in the Geo Sciences since scientists tend to pass code around. Some of the code shared as a community can be pretty scary, hard to understand, and difficult to modify. Adopting a nice coding style helps alleviate most issues."
   ]
  },
  {
   "cell_type": "markdown",
   "metadata": {
    "slideshow": {
     "slide_type": "subslide"
    }
   },
   "source": [
    "Python allows for a great deal of freedom, but does have a style guide (PEP 8) to make your code generally cleaner and more user-friendly. Python uses a coding style called [PEP8](http://www.python.org/dev/peps/pep-0008/) which dictates that the developer:\n",
    "\n",
    "- Use 4-space indentation, and no tabs.\n",
    "- Use blank lines to separate functions and classes, and larger blocks of code inside functions.\n",
    "- When possible, put comments on a line of their own.\n",
    "- Use spaces around operators and after commas, but not directly inside bracketing constructs:  a = f(1, 2) + g(3, 4).\n",
    "- Name your classes and functions consistently; the convention is to use  CamelCase for classes and lower_case_with_underscores for functions and methods. Always use self as the name for the first method argument (see A First Look at Classes for more on classes and methods).\n",
    "- Don’t use fancy encodings if your code is meant to be used in international environments. Plain ASCII works best in any case.\n",
    "\n",
    "The above list was taken from [Section 4.8. Intermezzo: Coding Style of the Python Documentation](http://docs.python.org/tutorial/controlflow.html#intermezzo-coding-style). Some of the things in the list may not make sense to you now but they will as you move forward in your Python learning journey."
   ]
  },
  {
   "cell_type": "markdown",
   "metadata": {
    "slideshow": {
     "slide_type": "slide"
    }
   },
   "source": [
    "### Python Program Structure"
   ]
  },
  {
   "cell_type": "markdown",
   "metadata": {
    "slideshow": {
     "slide_type": "slide"
    }
   },
   "source": [
    "* Python has no mandatory statement termination characters (i.e. semicolons)\n",
    "* Single-line comments start with a #\n",
    "* Variable values are assigned using =\n",
    "* Python automatically sets the data type (i.e. int, float, str)\n",
    "* Basic data structures: lists, tuples, dictionaries (index of the first item is 0)"
   ]
  },
  {
   "cell_type": "markdown",
   "metadata": {
    "slideshow": {
     "slide_type": "subslide"
    }
   },
   "source": [
    "#### Variables, data types"
   ]
  },
  {
   "cell_type": "markdown",
   "metadata": {
    "slideshow": {
     "slide_type": "fragment"
    }
   },
   "source": [
    "Variable types are automatically assigned - no type declarations needed\n",
    "\n",
    "Variable names:\n",
    "* Can start with lowercase or uppercase letters (but not numbers or symbols!)\n",
    "* Can contain numbers and certain symbols\n",
    "* Words should be separated by underscores\n"
   ]
  },
  {
   "cell_type": "code",
   "execution_count": null,
   "metadata": {
    "slideshow": {
     "slide_type": "subslide"
    }
   },
   "outputs": [],
   "source": [
    "# Integers\n",
    "my_integer = 3\n",
    "print(type(my_integer))"
   ]
  },
  {
   "cell_type": "code",
   "execution_count": null,
   "metadata": {
    "slideshow": {
     "slide_type": "fragment"
    }
   },
   "outputs": [],
   "source": [
    "# Floats\n",
    "my_float = 1.23\n",
    "print(type(my_float))\n"
   ]
  },
  {
   "cell_type": "code",
   "execution_count": null,
   "metadata": {
    "slideshow": {
     "slide_type": "fragment"
    }
   },
   "outputs": [],
   "source": [
    "# Strings\n",
    "string_1 = 'This is a string.'\n",
    "string_2 = \"This is also a string!\"\n",
    "print(type(string_1))"
   ]
  },
  {
   "cell_type": "code",
   "execution_count": null,
   "metadata": {
    "slideshow": {
     "slide_type": "fragment"
    }
   },
   "outputs": [],
   "source": [
    "print(my_integer)\n",
    "print('Test')\n",
    "print(f'Test {my_integer}') "
   ]
  },
  {
   "cell_type": "markdown",
   "metadata": {
    "slideshow": {
     "slide_type": "subslide"
    }
   },
   "source": [
    "#### Lists and dictionaries"
   ]
  },
  {
   "cell_type": "markdown",
   "metadata": {
    "slideshow": {
     "slide_type": "slide"
    }
   },
   "source": [
    "##### Lists"
   ]
  },
  {
   "cell_type": "code",
   "execution_count": null,
   "metadata": {
    "slideshow": {
     "slide_type": "fragment"
    }
   },
   "outputs": [],
   "source": [
    "list_one = ['a','b','c','d','e','f']\n",
    "print(list_one[0])\n",
    "print(list_one[-1])"
   ]
  },
  {
   "cell_type": "markdown",
   "metadata": {
    "slideshow": {
     "slide_type": "subslide"
    }
   },
   "source": [
    "##### Dictionaries"
   ]
  },
  {
   "cell_type": "code",
   "execution_count": null,
   "metadata": {
    "slideshow": {
     "slide_type": "fragment"
    }
   },
   "outputs": [],
   "source": [
    "models = {'CESM-POP': 23, \n",
    "        'CESM-MOM': 25,\n",
    "        'MPAS': 30}\n",
    "\n",
    "\n",
    "print(models['CESM-POP'])"
   ]
  },
  {
   "cell_type": "markdown",
   "metadata": {
    "slideshow": {
     "slide_type": "subslide"
    }
   },
   "source": [
    "#### Control Flow Tools/Loops"
   ]
  },
  {
   "cell_type": "markdown",
   "metadata": {
    "slideshow": {
     "slide_type": "subslide"
    }
   },
   "source": [
    "##### While loop"
   ]
  },
  {
   "cell_type": "code",
   "execution_count": null,
   "metadata": {
    "slideshow": {
     "slide_type": "fragment"
    }
   },
   "outputs": [],
   "source": [
    "b = 10\n",
    "while b <= 20:\n",
    "    print(b)\n",
    "    b += 1"
   ]
  },
  {
   "cell_type": "markdown",
   "metadata": {
    "slideshow": {
     "slide_type": "subslide"
    }
   },
   "source": [
    "##### If statements"
   ]
  },
  {
   "cell_type": "code",
   "execution_count": null,
   "metadata": {
    "scrolled": true,
    "slideshow": {
     "slide_type": "fragment"
    }
   },
   "outputs": [],
   "source": [
    "x = 20\n",
    "if x < 0:\n",
    "    print(f'{x} is less than 0.')\n",
    "\n",
    "elif x == 0:\n",
    "    print(f'{x} is 0.')\n",
    "    \n",
    "else:\n",
    "    print(f'{x} is greater than 0.')"
   ]
  },
  {
   "cell_type": "markdown",
   "metadata": {
    "slideshow": {
     "slide_type": "subslide"
    }
   },
   "source": [
    "##### For loop"
   ]
  },
  {
   "cell_type": "code",
   "execution_count": null,
   "metadata": {
    "slideshow": {
     "slide_type": "fragment"
    }
   },
   "outputs": [],
   "source": [
    "languages = ['NCL', 'C++', 'Python', 'IDL']\n",
    "for lang in languages:\n",
    "    print(f'{lang} string has {len(lang)} characters')\n"
   ]
  },
  {
   "cell_type": "markdown",
   "metadata": {
    "slideshow": {
     "slide_type": "subslide"
    }
   },
   "source": [
    "Another even more concise approach we could take is list comprehension:"
   ]
  },
  {
   "cell_type": "code",
   "execution_count": null,
   "metadata": {
    "slideshow": {
     "slide_type": "fragment"
    }
   },
   "outputs": [],
   "source": [
    "numbers = [1, 2, 3, 5, 10]"
   ]
  },
  {
   "cell_type": "code",
   "execution_count": null,
   "metadata": {
    "slideshow": {
     "slide_type": "fragment"
    }
   },
   "outputs": [],
   "source": [
    "[num * num for num in numbers]"
   ]
  },
  {
   "cell_type": "markdown",
   "metadata": {
    "slideshow": {
     "slide_type": "subslide"
    }
   },
   "source": [
    "#### Modules and functions"
   ]
  },
  {
   "cell_type": "markdown",
   "metadata": {
    "slideshow": {
     "slide_type": "fragment"
    }
   },
   "source": [
    "* Python source files (ending in .py) are known as **modules**\n",
    "* Modules contain **functions**, which can be called separated from the module\n",
    "* Below is an example of what's inside the module _grid.py_ \n"
   ]
  },
  {
   "cell_type": "markdown",
   "metadata": {
    "slideshow": {
     "slide_type": "subslide"
    }
   },
   "source": [
    "```python\n",
    "import yaml \n",
    "\n",
    "\n",
    "def get_grid_info(grid_name):\n",
    "    \n",
    "    \"\"\"Return Grid information\n",
    "    \n",
    "    Parameters\n",
    "    ----------\n",
    "    grid_name : str\n",
    "      Name of grid (i.e., POP_gx3v7, POP_gx1v7, POP_tx0.1v3)\n",
    "    \n",
    "    Returns\n",
    "    -------\n",
    "    Grid information : str \n",
    "    \n",
    "    \"\"\"\n",
    "    \n",
    "    with open('pop_grid_definitions.yaml') as f:\n",
    "        grid_defs = yaml.safe_load(f)\n",
    "\n",
    "    if grid_name not in grid_defs:\n",
    "        raise ValueError(\n",
    "            f\"\"\"Unknown grid: {grid_name}\n",
    "             Please select from the following: {list(grid_defs.keys())}\"\"\"\n",
    "        )\n",
    "        \n",
    "    \n",
    "    return grid_defs[grid_name]\n",
    "```"
   ]
  },
  {
   "cell_type": "markdown",
   "metadata": {
    "slideshow": {
     "slide_type": "subslide"
    }
   },
   "source": [
    "Functions can be imported into other modules:"
   ]
  },
  {
   "cell_type": "code",
   "execution_count": null,
   "metadata": {
    "scrolled": true,
    "slideshow": {
     "slide_type": "fragment"
    }
   },
   "outputs": [],
   "source": [
    "from grid import get_grid_info"
   ]
  },
  {
   "cell_type": "code",
   "execution_count": null,
   "metadata": {
    "slideshow": {
     "slide_type": "fragment"
    }
   },
   "outputs": [],
   "source": [
    "get_grid_info('POP_gx3v7')"
   ]
  },
  {
   "cell_type": "markdown",
   "metadata": {
    "slideshow": {
     "slide_type": "subslide"
    }
   },
   "source": [
    "### Basic Math"
   ]
  },
  {
   "cell_type": "code",
   "execution_count": null,
   "metadata": {
    "slideshow": {
     "slide_type": "fragment"
    }
   },
   "outputs": [],
   "source": [
    "print( 3.1 + 3.6 )\n",
    "print( 3.1/392   )\n",
    "print( 3.1*3.2   )\n",
    "print( 4**2  )"
   ]
  },
  {
   "cell_type": "code",
   "execution_count": null,
   "metadata": {
    "slideshow": {
     "slide_type": "fragment"
    }
   },
   "outputs": [],
   "source": [
    "import math\n",
    "from math import cos\n",
    "print( cos(2*math.pi) )\n",
    "print( math.sqrt(4) )"
   ]
  },
  {
   "cell_type": "markdown",
   "metadata": {
    "slideshow": {
     "slide_type": "slide"
    }
   },
   "source": [
    "## Whetting Your Appetite for Python"
   ]
  },
  {
   "cell_type": "markdown",
   "metadata": {
    "slideshow": {
     "slide_type": "fragment"
    }
   },
   "source": [
    "Here’s just a quick demonstration of how to accomplish a pretty interesting task, computing and plotting [Oceanic Niño Index](https://www.ncdc.noaa.gov/teleconnections/enso/indicators/sst/), in Python. We won’t explain much of what’s going on here, but just want to show how much you can accomplish in Python.\n",
    "\n",
    "First we just bring in some tools from a variety of Python libraries, using the import command. Python is really powerful at assembling various tools together like lego bricks."
   ]
  },
  {
   "cell_type": "code",
   "execution_count": null,
   "metadata": {
    "slideshow": {
     "slide_type": "subslide"
    }
   },
   "outputs": [],
   "source": [
    "# A whole bunch of imports\n",
    "%matplotlib inline\n",
    "import warnings\n",
    "warnings.simplefilter(\"ignore\") # Silence warnings\n",
    "import xarray as xr\n",
    "import numpy as np\n",
    "from matplotlib import pyplot as plt"
   ]
  },
  {
   "cell_type": "code",
   "execution_count": null,
   "metadata": {
    "slideshow": {
     "slide_type": "subslide"
    }
   },
   "outputs": [],
   "source": [
    "# Read sea surface temperature data\n",
    "\n",
    "ds = xr.open_mfdataset(\"../datasets/sst/*.nc\").load()\n",
    "ds"
   ]
  },
  {
   "cell_type": "code",
   "execution_count": null,
   "metadata": {
    "slideshow": {
     "slide_type": "fragment"
    }
   },
   "outputs": [],
   "source": [
    "sst = ds.sst"
   ]
  },
  {
   "cell_type": "code",
   "execution_count": null,
   "metadata": {
    "slideshow": {
     "slide_type": "subslide"
    }
   },
   "outputs": [],
   "source": [
    "# Plot mean sst along time dimension\n",
    "sst.mean(dim='time').plot(vmin=-2, vmax=30)"
   ]
  },
  {
   "cell_type": "code",
   "execution_count": null,
   "metadata": {
    "slideshow": {
     "slide_type": "subslide"
    }
   },
   "outputs": [],
   "source": [
    "# Plot mean sst along time and longitude dimensions\n",
    "\n",
    "sst.mean(dim=('time', 'lon')).plot()"
   ]
  },
  {
   "cell_type": "code",
   "execution_count": null,
   "metadata": {
    "slideshow": {
     "slide_type": "subslide"
    }
   },
   "outputs": [],
   "source": [
    "# Compute climatologies\n",
    "\n",
    "sst_clim = sst.groupby('time.month').mean(dim='time')\n",
    "sst_clim.sel(lon=230, lat=45, method='nearest').plot()\n"
   ]
  },
  {
   "cell_type": "code",
   "execution_count": null,
   "metadata": {
    "slideshow": {
     "slide_type": "subslide"
    }
   },
   "outputs": [],
   "source": [
    "# Compute anomalies\n",
    "\n",
    "sst_anom = sst.groupby('time.month') - sst_clim\n",
    "sst_anom.sel(lon=230, lat=45, method='nearest').plot()"
   ]
  },
  {
   "cell_type": "code",
   "execution_count": null,
   "metadata": {
    "slideshow": {
     "slide_type": "subslide"
    }
   },
   "outputs": [],
   "source": [
    "# Compute El Niño (La Niña) Index\n",
    "sst_anom_nino34 = sst_anom.sel(lat=slice(-5, 5), lon=slice(190, 240))\n",
    "sst_anom_nino34[0].plot()"
   ]
  },
  {
   "cell_type": "code",
   "execution_count": null,
   "metadata": {
    "slideshow": {
     "slide_type": "subslide"
    }
   },
   "outputs": [],
   "source": [
    "sst_anom_nino34_mean = sst_anom_nino34.mean(dim=('lon', 'lat'))\n",
    "oni = sst_anom_nino34_mean.rolling(time=3).mean(dim='time')\n",
    "fig, ax = plt.subplots()\n",
    "sst_anom_nino34_mean.plot(ax=ax, label='raw')\n",
    "oni.plot(ax=ax, label='smoothed')\n",
    "ax.grid()"
   ]
  },
  {
   "cell_type": "code",
   "execution_count": null,
   "metadata": {
    "slideshow": {
     "slide_type": "subslide"
    }
   },
   "outputs": [],
   "source": [
    "# create a categorical  dataarray\n",
    "nino34 = xr.full_like(oni, 'none', dtype='U4')\n",
    "nino34[oni >= 0.5] = 'nino'\n",
    "nino34[oni <= -0.5] = 'nina'\n",
    "sst_nino_composite = sst_anom.groupby(nino34.rename('nino34')).mean(dim='time')\n",
    "sst_nino_composite.sel(nino34='nino').plot()"
   ]
  },
  {
   "cell_type": "code",
   "execution_count": null,
   "metadata": {
    "slideshow": {
     "slide_type": "subslide"
    }
   },
   "outputs": [],
   "source": [
    "sst_nino_composite.sel(nino34='nina').plot()"
   ]
  }
 ],
 "metadata": {
  "celltoolbar": "Slideshow",
  "kernelspec": {
   "display_name": "Python 3",
   "language": "python",
   "name": "python3"
  },
  "language_info": {
   "codemirror_mode": {
    "name": "ipython",
    "version": 3
   },
   "file_extension": ".py",
   "mimetype": "text/x-python",
   "name": "python",
   "nbconvert_exporter": "python",
   "pygments_lexer": "ipython3",
   "version": "3.7.3"
  }
 },
 "nbformat": 4,
 "nbformat_minor": 2
}
