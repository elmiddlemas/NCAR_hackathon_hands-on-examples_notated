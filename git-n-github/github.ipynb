{
 "cells": [
  {
   "cell_type": "markdown",
   "metadata": {},
   "source": [
    "![](images/github-logo.png)\n",
    "# Getting Started with GitHub"
   ]
  },
  {
   "cell_type": "markdown",
   "metadata": {},
   "source": [
    "The first thing you will need is a GitHub account.  If you don't already have one, go to [github.com](https://github.com)."
   ]
  },
  {
   "cell_type": "markdown",
   "metadata": {},
   "source": [
    "Next, you need to make sure that the email address you have associate with your Git installation (i.e., `git config`) is the same as the email address associated with your GitHub account.  _This is how GitHub knows it is you!_"
   ]
  },
  {
   "cell_type": "code",
   "execution_count": null,
   "metadata": {},
   "outputs": [],
   "source": [
    "git config --global --get user.email"
   ]
  },
  {
   "cell_type": "markdown",
   "metadata": {},
   "source": [
    "If the previous cell doesn't return an email address that matches the email address you used for your GitHub account, then you should change it with the following line:\n",
    "\n",
    "```bash\n",
    "git config --global user.email you@domain.example.com\n",
    "```"
   ]
  },
  {
   "cell_type": "code",
   "execution_count": null,
   "metadata": {},
   "outputs": [],
   "source": []
  },
  {
   "cell_type": "markdown",
   "metadata": {},
   "source": [
    "And that's about all you need to do to get started with GitHub.  We'll be going back and forth between the [GitHub website](https://github.com) and wherever you have Git installed for the remainder of this section, so you might want to bring up GitHub in another tab of your browser."
   ]
  },
  {
   "cell_type": "markdown",
   "metadata": {},
   "source": [
    "# Repositories"
   ]
  },
  {
   "cell_type": "markdown",
   "metadata": {},
   "source": [
    "As we mentioned in the section on Git, GitHub hosts _bare_ repositories.  These are repositories that cannot have code \"checked out\" in them.  Rather, they represent just the `.git` hidden directory contents of a Git repository.\n",
    "\n",
    "Let's create a repository using the GitHub interface."
   ]
  },
  {
   "cell_type": "markdown",
   "metadata": {},
   "source": [
    "## Step 1\n",
    "\n",
    "**If you are logged into GitHub, you should see a \"+\" sign at the top-right of the page, next to your image or avatar.**\n",
    "\n",
    "---\n",
    "![GitHub Plus Sign](images/github_plus_sign.png)\n",
    "\n",
    "---"
   ]
  },
  {
   "cell_type": "markdown",
   "metadata": {},
   "source": [
    "## Step 2\n",
    "\n",
    "**Click the \"+\" symbol and select \"New repository\".  This should take you to a repository initialization page.**\n",
    "\n",
    "---\n",
    "![GitHub Create a Repository](images/create_a_repository.png)\n",
    "\n",
    "---\n",
    "\n",
    "**Fill out the form as you see here and click \"Create repository\".**\n",
    "\n",
    "**Finally, this should take you to the home page for your GitHub Repository.**\n",
    "\n",
    "---\n",
    "![GitHub Example Repository](images/example_repo.png)\n",
    "\n",
    "---"
   ]
  },
  {
   "cell_type": "markdown",
   "metadata": {},
   "source": [
    "## What you should see\n",
    "\n",
    "Moving from top to bottom on this page, you should see the following.\n",
    "\n",
    "1. Notice that the top left of the page tells you the _owner_ of the repository (you!) and the name of the repository.  If you click on either, it will take you to the home page for them (your account or your repository).\n",
    "\n",
    "2. The top-right of the page has a count of the number of GitHub users who are \"watching\" this repo, who have \"starred\" the repo, and who have \"forked\" the repo.  Watchers will get notifications whenever something happens on the repository (e.g., issue, pull request, commits, etc.).  Starring a repo essentially \"bookmarks\" the repo so you can easily find it on your GitHub home page, but stars are also a good metric of popularity of a repo.  Forks are copies (or clones) of a repository stored on GitHub.\n",
    "\n",
    "3. The next line down are different tabs to different content associated with your repository: the \"Code\" itself, \"Issues\" for tracking issues, \"Pull Requests\" for merging new changes into the repository (from branches or forks), \"Projects\" for keeping organized lists of \"To Do\" items for your project, \"Wiki\" to create an online wiki associated with your repository, \"Security\" where you can set up security alerts or policies for your repo, \"Insights\" where you can see graphical representations of work done in (and status of) the repo, and \"Settings\" where you can change many things like who has permissions to directly commit to your repo.\n",
    "\n",
    "4. The next line (box) contains quick links to see all of the Git commits made to the repository, what branches exist in the repository, what \"releases\" exist, and who all has contributed to the repo.\n",
    "\n",
    "5. The next line contains buttons that give the ability to quickly switch or create a branch, create a new \"Pull Request\", create a new file, upload new files, find a file, or get a link to the repo so you can clone it (or download it as a tarball).\n",
    "\n",
    "6. The next section contains a view of the contents in the current directory of your repository (and your selected branch).  You can view any of the files, or enter any directory, simply by clicking on it.  Notice that our new repository contains only 3 files, a `README.md` markdown file, a `.gitignore` (which tells Git to not track certain files that match defined patterns), and a `LICENSE` file that matches the Apache-2.0 format.\n",
    "\n",
    "7. Lastly, the contents of the `README.md` file (a markdown file) are displayed if one exists in the current directory."
   ]
  },
  {
   "cell_type": "markdown",
   "metadata": {},
   "source": [
    "## Adding changes directly from GitHub\n",
    "\n",
    "You can add changes to your new repo directly from the GitHub in one of 3 ways:\n",
    "\n",
    "1. You can click the \"Create new file\" button and create a new file.\n",
    "2. You can select a file and directly edit it (if it is a text file).\n",
    "3. You can click the \"Upload files\" button to upload files to the repository that already exist on your laptop.\n",
    "\n",
    "Let's take a look at the `LICENSE` file (click on it) and edit it (click on the pencil icon on the top-right of the file contents page).\n",
    "\n",
    "Scroll down to the bottom of the page and do the following:\n",
    "\n",
    "1. Remove the `APPENDIX` section (right after the `END OF TERMS AND CONDITIONS` and just before the `Copyright` line).\n",
    "2. Update the Copyright date and owner (you!).\n",
    "\n",
    "After making the changes, add a Git commit message in the box below the \"Commit changes\" section at the bottom.  Then click the \"Commit changes\" button.\n",
    "\n",
    "Now, if you click the name of your repo at the very top of the page, it should take you back to the repo home page and you should see \"2 commits\" in the quick-link box (middle of the page).\n",
    "\n",
    "--- \n",
    "![GitHub Two Commits](images/two_commits.png)\n",
    "\n",
    "---\n",
    "\n",
    "**Click where it says \"2 commits\" and look at the log/history.**\n",
    "\n",
    "--- \n",
    "![GitHub Log](images/github_log.png)\n",
    "\n",
    "---\n"
   ]
  },
  {
   "cell_type": "markdown",
   "metadata": {},
   "source": [
    "# Clones"
   ]
  },
  {
   "cell_type": "markdown",
   "metadata": {},
   "source": [
    "Now, let's go back to our `example` repositories home page.\n",
    "\n",
    "**Note:** You can also just as easily put into your browser the URL:\n",
    "\n",
    "    https://github.com/[username]/example\n",
    "\n",
    "Now, let's click on the \"Clone or download\" button and then copy the URL for this repository onto your clipboard.\n",
    "\n",
    "Next, let's create a clone of this repository where we currently are located (in this notebook)."
   ]
  },
  {
   "cell_type": "code",
   "execution_count": null,
   "metadata": {},
   "outputs": [],
   "source": [
    "cd"
   ]
  },
  {
   "cell_type": "code",
   "execution_count": null,
   "metadata": {},
   "outputs": [],
   "source": [
    "git clone https://github.com/kmpaul/example.git"
   ]
  },
  {
   "cell_type": "code",
   "execution_count": null,
   "metadata": {},
   "outputs": [],
   "source": [
    "cd example"
   ]
  },
  {
   "cell_type": "markdown",
   "metadata": {},
   "source": [
    "Let's add a new line to our `README.md` file."
   ]
  },
  {
   "cell_type": "code",
   "execution_count": null,
   "metadata": {},
   "outputs": [],
   "source": [
    "echo \"Really, this is just an example.\" >> README.md"
   ]
  },
  {
   "cell_type": "markdown",
   "metadata": {},
   "source": [
    "Now we can commit this change to our clone."
   ]
  },
  {
   "cell_type": "code",
   "execution_count": null,
   "metadata": {},
   "outputs": [],
   "source": [
    "git add README.md\n",
    "git commit -m \"Emphatically stating that this is just an example.\""
   ]
  },
  {
   "cell_type": "markdown",
   "metadata": {},
   "source": [
    "And finally, we can `push` our changes (without any complications!) to GitHub.\n",
    "\n",
    "**Note:** If this is your first time pushing to GitHub, then it will try to authenticate with your username and password.  This doesn't work with Jupyter Notebook, so you may have to do this step in a separate terminal."
   ]
  },
  {
   "cell_type": "code",
   "execution_count": null,
   "metadata": {},
   "outputs": [],
   "source": [
    "git push"
   ]
  },
  {
   "cell_type": "markdown",
   "metadata": {},
   "source": [
    "And we're done!  If you go to your GitHub repository's home page, you can click the \"commits\" link to see your new commit, and you should see the change added to the `README.md` file."
   ]
  },
  {
   "cell_type": "markdown",
   "metadata": {},
   "source": [
    "# Forks"
   ]
  },
  {
   "cell_type": "markdown",
   "metadata": {},
   "source": [
    "\"Forks\" are just clones hosted on GitHub, essentially.\n",
    "\n",
    "We have described the \"branch-merge\" technique already (in the Git section) for keeping multiple contributors from stomping on each other's work.  That technique works very well when everyone who is contributing has permissions to contribute to the repository.  However, for any number of reasons, constantly adding users as \"contributors\" (i.e., giving them permissions to write to the repository) may not be the most desirable thing to do.\n",
    "\n",
    "The main reason for this is that all users who have _write_ permissions to the repository can directly push their changes to the repository.  And, as a good practice, all new changes to a repository should be _vetted_ (i.e., reviewed) by a trusted contributor.  You can do this with branches and merges using GitHub's \"Pull Request\" capability, but even then a full-fledged contributor can just merge their changes without review.  (Though you can set up your repository settings to require at least 1 reviewer before code is merged.  We won't go into that detail here.)\n",
    "\n",
    "Another reason for this is because maintaining an up-to-date list of contributors to your code can be annoying.\n",
    "\n",
    "And a third reason is because _you don't have to_!\n",
    "\n",
    "Why?  Because of the \"Fork\" / \"Pull Request\" mechanism in GitHub."
   ]
  },
  {
   "cell_type": "markdown",
   "metadata": {},
   "source": [
    "### Step 1\n",
    "\n",
    "Let's create our first fork by heading to this repository:\n",
    "\n",
    "   [https://github.com/ncar-hackathons/forkme](https://github.com/ncar-hackathons/forkme)\n",
    "\n",
    "And click the \"Fork\" button at the top-right of the page.  Then, select where you want to place your new Fork (your personal space, for example).  Now, you should (after a short while thinking) be on the home page of your new forked repository."
   ]
  },
  {
   "cell_type": "markdown",
   "metadata": {},
   "source": [
    "### Step 2\n",
    "\n",
    "Now, let's use the \"Create new file\" button on the fork repository's home page to create a new file.  Name the file the same as your Cheyenne (or GitHub) username.  Then, write your full name in the newly create file and commit this new file to your fork."
   ]
  },
  {
   "cell_type": "markdown",
   "metadata": {},
   "source": [
    "# Pull Requests\n",
    "\n",
    "Now that you have added a change to your fork, you can _request_ that the owners of the original repository accept your new changes by clicking on the \"New pull request\" button.\n",
    "\n",
    "You should see a page like this:\n",
    "\n",
    "---\n",
    "![github_prs](images/github_prs.png)\n",
    "\n",
    "---\n",
    "\n",
    "Below the \"Comparing changes\" title, you can see that we are going to request that the `master` branch of our fork (`username/forkme`) be merged into the `master` branch of the main repository (`ncar-hackathons/forkme`).  Click the \"Create pull request\" button to actually put in the request.  (You will need to generate a title for this pull request, and possibly a description of what you are proposing, and then click \"Create pull request\" again.)\n",
    "\n",
    "Notice that after doing this, we are now at the main repository's \"Pull Requests\" page for the pull request that we just created.  There are a lot of things you can do here, such as click the \"Files changed\" tab to see what changes are actually going to be merged in (if this PR is accepted).  Or, in the \"Conversation\" tab, you can have a discussion about the changes that are being proposed.  Anyone with _write_ permissions to the main repository can merge your changes into the repository.  Though, they may ask you to make additional changes for any number of reasons.\n",
    "\n",
    "To do this, all you need to do is make new commits to _your fork_.  As long as the PR exists (and hasn't been merged, yet), any changes you make to your fork will be added (automatically) to your PR.\n",
    "\n",
    "Once you have satisfied all of the requirements of the owner of the main repository, it will (_should_) be merged in.  And then you can delete your fork (just like you delete your merged branch)."
   ]
  }
 ],
 "metadata": {
  "kernelspec": {
   "display_name": "Bash",
   "language": "bash",
   "name": "bash"
  },
  "language_info": {
   "codemirror_mode": "shell",
   "file_extension": ".sh",
   "mimetype": "text/x-sh",
   "name": "bash"
  }
 },
 "nbformat": 4,
 "nbformat_minor": 2
}
