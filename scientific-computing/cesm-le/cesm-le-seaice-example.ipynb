{
 "cells": [
  {
   "cell_type": "markdown",
   "metadata": {},
   "source": [
    "# Compute and plot sea-ice extent from the CESM-LE"
   ]
  },
  {
   "cell_type": "code",
   "execution_count": 1,
   "metadata": {},
   "outputs": [],
   "source": [
    "%matplotlib inline\n",
    "import os\n",
    "from glob import glob\n",
    "import cftime\n",
    "\n",
    "from itertools import product, chain\n",
    "\n",
    "import numpy as np\n",
    "import pandas as pd\n",
    "import xarray as xr\n",
    "import dask\n",
    "\n",
    "import matplotlib.pyplot as plt\n",
    "\n",
    "import esmlab"
   ]
  },
  {
   "cell_type": "markdown",
   "metadata": {},
   "source": [
    "## Point to the CESM-LE data files\n",
    "\n",
    "First set the case names, a list of ensemble `member_ids` and the variable of interest."
   ]
  },
  {
   "cell_type": "code",
   "execution_count": 2,
   "metadata": {},
   "outputs": [],
   "source": [
    "rootdir = '/glade/collections/cdg/data/cesmLE/CESM-CAM5-BGC-LE'\n",
    "\n",
    "CTRL = 'b.e11.B1850C5CN.f09_g16.005'\n",
    "T20C = 'b.e11.B20TRC5CNBDRD.f09_g16'\n",
    "TR85 = 'b.e11.BRCP85C5CNBDRD.f09_g16'\n",
    "\n",
    "member_ids = [i for i in chain(range(1,36),range(101,106))]\n",
    "\n",
    "component = 'ocn'\n",
    "freq = 'monthly'\n",
    "variable = 'IFRAC'"
   ]
  },
  {
   "cell_type": "markdown",
   "metadata": {},
   "source": [
    "Now construct a dictionary that includes a list of files for each ensemble member:\n",
    "\n",
    "```python\n",
    "filedict = {1: ['file1.001', 'file2.001',...], \n",
    "            2: ['file1.002', 'file2.002',...], \n",
    "            ...}\n",
    "```"
   ]
  },
  {
   "cell_type": "code",
   "execution_count": 3,
   "metadata": {},
   "outputs": [
    {
     "data": {
      "text/plain": [
       "['/glade/collections/cdg/data/cesmLE/CESM-CAM5-BGC-LE/ocn/proc/tseries/monthly/IFRAC/b.e11.B20TRC5CNBDRD.f09_g16.001.pop.h.IFRAC.185001-200512.nc',\n",
       " '/glade/collections/cdg/data/cesmLE/CESM-CAM5-BGC-LE/ocn/proc/tseries/monthly/IFRAC/b.e11.BRCP85C5CNBDRD.f09_g16.001.pop.h.IFRAC.200601-208012.nc',\n",
       " '/glade/collections/cdg/data/cesmLE/CESM-CAM5-BGC-LE/ocn/proc/tseries/monthly/IFRAC/b.e11.BRCP85C5CNBDRD.f09_g16.001.pop.h.IFRAC.208101-210012.nc']"
      ]
     },
     "execution_count": 3,
     "metadata": {},
     "output_type": "execute_result"
    }
   ],
   "source": [
    "pth = f'{rootdir}/{component}/proc/tseries/{freq}/{variable}'\n",
    "\n",
    "filedict = {}\n",
    "for ens in member_ids:\n",
    "    filedict[ens] = []\n",
    "    for sc in [T20C, TR85]:\n",
    "        glob_res = sorted(glob(f'{pth}/{sc}.{ens:03d}*.nc'))\n",
    "        filedict[ens].extend(glob_res)\n",
    "\n",
    "filedict[1]"
   ]
  },
  {
   "cell_type": "markdown",
   "metadata": {},
   "source": [
    "## Spin up a dask cluster\n",
    "\n",
    "We are using `ncar_jobqueue.NCARCluster`; this just passes thru to `dask_jobqueue.PBSCluster` or `dask_jobqueue.SLURMCluster` depending on whether you are on Cheyenne or a DAV machine. \n",
    "\n",
    "**Note**: `dask_jobqueue.SLURMCluster` does not work on Cheyenne compute nodes, though the cluster jobs will start giving the appearance of functionality.\n",
    "\n",
    "Default arguments to `ncar_jobqueue.NCARCluster` are set in `~/.config/dask/jobqueue.yaml`; you can over-ride these defaults by passing in arguments directly here."
   ]
  },
  {
   "cell_type": "code",
   "execution_count": 4,
   "metadata": {},
   "outputs": [
    {
     "name": "stderr",
     "output_type": "stream",
     "text": [
      "/glade/work/mclong/miniconda3/envs/analysis/lib/python3.7/site-packages/dask_jobqueue/config.py:12: YAMLLoadWarning: calling yaml.load() without Loader=... is deprecated, as the default Loader is unsafe. Please read https://msg.pyyaml.org/load for full details.\n",
      "  defaults = yaml.load(f)\n",
      "/glade/work/mclong/miniconda3/envs/analysis/lib/python3.7/site-packages/distributed/deploy/local.py:138: UserWarning: diagnostics_port has been deprecated. Please use `dashboard_address=` instead\n",
      "  \"diagnostics_port has been deprecated. \"\n"
     ]
    },
    {
     "data": {
      "application/vnd.jupyter.widget-view+json": {
       "model_id": "a1f2e8ed1b544917b047bc168f03c095",
       "version_major": 2,
       "version_minor": 0
      },
      "text/plain": [
       "VBox(children=(HTML(value='<h2>NCARCluster</h2>'), HBox(children=(HTML(value='\\n<div>\\n  <style scoped>\\n    .…"
      ]
     },
     "metadata": {},
     "output_type": "display_data"
    }
   ],
   "source": [
    "from ncar_jobqueue import NCARCluster\n",
    "cluster = NCARCluster()\n",
    "cluster.scale(4 * 9) # Ask for 4 x 9 workers\n",
    "cluster"
   ]
  },
  {
   "cell_type": "markdown",
   "metadata": {},
   "source": [
    "Paste the dashboard link into the `DASK DASHBOARD URL` in the `dask-labextension` at right, replacing the part that looks sort of IP-adress-ish with the URL in your browser, excluding the `/lab...` part."
   ]
  },
  {
   "cell_type": "code",
   "execution_count": 5,
   "metadata": {},
   "outputs": [
    {
     "data": {
      "text/html": [
       "<table style=\"border: 2px solid white;\">\n",
       "<tr>\n",
       "<td style=\"vertical-align: top; border: 0px solid white\">\n",
       "<h3>Client</h3>\n",
       "<ul>\n",
       "  <li><b>Scheduler: </b>tcp://10.12.205.19:37399\n",
       "  <li><b>Dashboard: </b><a href='http://10.12.205.19/proxy/8787/status' target='_blank'>http://10.12.205.19/proxy/8787/status</a>\n",
       "</ul>\n",
       "</td>\n",
       "<td style=\"vertical-align: top; border: 0px solid white\">\n",
       "<h3>Cluster</h3>\n",
       "<ul>\n",
       "  <li><b>Workers: </b>36</li>\n",
       "  <li><b>Cores: </b>36</li>\n",
       "  <li><b>Memory: </b>900.00 GB</li>\n",
       "</ul>\n",
       "</td>\n",
       "</tr>\n",
       "</table>"
      ],
      "text/plain": [
       "<Client: scheduler='tcp://10.12.205.19:37399' processes=36 cores=36>"
      ]
     },
     "execution_count": 5,
     "metadata": {},
     "output_type": "execute_result"
    }
   ],
   "source": [
    "from dask.distributed import Client\n",
    "client = Client(cluster) # Connect this local process to remote workers\n",
    "client"
   ]
  },
  {
   "cell_type": "markdown",
   "metadata": {},
   "source": [
    "## Read the data off disk\n",
    "\n",
    "Define a set of helper functions that streamline concatenating along the time and ensemble dimension. `xarray` includes a function called `open_mfdataset` that in theory should be able to open multiple files. In practice, however, `open_mfdataset` fails or is very slow because it carefully compares all the coordinates across the files being concatenated. Here we can take advantage of our knowledge that the files have the same coordinates, so we pull coordinates from the first file."
   ]
  },
  {
   "cell_type": "code",
   "execution_count": 6,
   "metadata": {},
   "outputs": [],
   "source": [
    "from functools import reduce\n",
    "\n",
    "def set_coords(ds, varname):\n",
    "    \"\"\"Set all variables except varname to be coords.\"\"\"\n",
    "    coord_vars = set(ds.data_vars) - set(varname)\n",
    "    return ds.set_coords(coord_vars)\n",
    "\n",
    "\n",
    "def merge_vars_two_datasets(ds1, ds2):\n",
    "    \"\"\"\n",
    "    Merge two datasets, dropping all variables from\n",
    "    second dataset that already exist in the first dataset's coordinates.\n",
    "    \"\"\"\n",
    "\n",
    "    # drop non-dimensional coords and merge\n",
    "    ds1_ndcoords = set(ds1.coords) - set(ds1.dims)\n",
    "    ds2_dropvars = set(ds2.variables).intersection(ds1_ndcoords)\n",
    "    ds = xr.merge([ds1, ds2.drop(ds2_dropvars)])\n",
    "\n",
    "    return ds\n",
    "\n",
    "def merge(dsets):\n",
    "    \"\"\"Merge datasets.\"\"\"\n",
    "\n",
    "    if len(dsets) == 1:\n",
    "        return dsets[0]\n",
    "\n",
    "    dsm = reduce(merge_vars_two_datasets, dsets)\n",
    "\n",
    "    return dsm\n",
    "\n",
    "\n",
    "def concat_time_levels(dsets, time_coord_name='time'):\n",
    "    \"\"\"\n",
    "    Concatenate datasets across \"time\" levels, taking time invariant variables\n",
    "    from the first dataset.\n",
    "    Parameters\n",
    "    ----------\n",
    "    dsets : list\n",
    "        A list of datasets to concatenate.\n",
    "    time_coord_name_default : string\n",
    "        Default name of the time coordinate\n",
    "    Returns\n",
    "    -------\n",
    "    dset : xarray.Dataset,\n",
    "        The concatenated dataset.\n",
    "    \"\"\"\n",
    "\n",
    "    dsets = dask.compute(*dsets)\n",
    "    \n",
    "    if len(dsets) == 1:\n",
    "        return dsets[0]\n",
    "\n",
    "    # get static vars from first dataset\n",
    "    first = dsets[0]\n",
    "\n",
    "    def drop_unnecessary_coords(ds):\n",
    "        \"\"\"Drop coordinates that do not correspond with dimensions.\"\"\"\n",
    "        non_dim_coords = set(ds.coords) - set(ds.dims)\n",
    "        non_dim_coords_drop = [\n",
    "            coord for coord in non_dim_coords if time_coord_name not in ds[coord].dims\n",
    "        ]\n",
    "        return ds.drop(non_dim_coords_drop)\n",
    "\n",
    "    rest = [drop_unnecessary_coords(ds) for ds in dsets[1:]]\n",
    "    objs_to_concat = [first] + rest\n",
    "\n",
    "    ds = xr.concat(objs_to_concat, dim=time_coord_name, coords='minimal')\n",
    "\n",
    "    return ds\n",
    "\n",
    "def open_dataset(path, data_vars, **kwargs):\n",
    "    \"\"\"open dataset\"\"\"\n",
    "    ds = xr.open_dataset(path, **kwargs)\n",
    "    return set_coords(ds, data_vars)"
   ]
  },
  {
   "cell_type": "markdown",
   "metadata": {},
   "source": [
    "Loop over the ensemble members; read each list of files and append to a list of datasets: `dsets`."
   ]
  },
  {
   "cell_type": "code",
   "execution_count": 7,
   "metadata": {},
   "outputs": [
    {
     "name": "stdout",
     "output_type": "stream",
     "text": [
      "CPU times: user 2.77 s, sys: 241 ms, total: 3.01 s\n",
      "Wall time: 11.9 s\n"
     ]
    }
   ],
   "source": [
    "%%time\n",
    "\n",
    "# set some common keyword arguments to `open_dataset`\n",
    "xr_open = dict(decode_times=False, decode_coords=False, chunks={'time': 12})\n",
    "\n",
    "# specify the variables to keep\n",
    "keep_vars = [variable, 'TAREA', 'TLAT', 'TLONG', 'KMT', 'time', 'time_bound']\n",
    "\n",
    "# loop over the ensembles and create a time-concatenated dataset for each;\n",
    "# append this to a list `dsets`\n",
    "dsets = []\n",
    "for ens in member_ids:\n",
    "    \n",
    "    dsets_i = [dask.delayed(open_dataset)(f, data_vars=[variable], **xr_open) \n",
    "               for f in filedict[ens]]\n",
    "    \n",
    "    dsi = concat_time_levels(dsets_i)\n",
    "    dsi = dsi.drop([v for v in dsi.variables if v not in keep_vars])\n",
    "    \n",
    "    dsets.append(dsi)\n"
   ]
  },
  {
   "cell_type": "markdown",
   "metadata": {},
   "source": [
    "## Align\n",
    "Align the datasets to deal with the fact that some ensemble members have different lengths. The [align](http://xarray.pydata.org/en/stable/generated/xarray.align.html#xarray.align) method returns new objects with aligned indexes and dimension sizes.\n",
    "- inner join keeps only overlapping segments of each ensemble;\n",
    "- outer join gives us the longest possible record.\n",
    "\n",
    "What happens if you change \"inner\" to \"outer\"?"
   ]
  },
  {
   "cell_type": "code",
   "execution_count": 8,
   "metadata": {},
   "outputs": [
    {
     "name": "stdout",
     "output_type": "stream",
     "text": [
      "CPU times: user 175 ms, sys: 3.28 ms, total: 178 ms\n",
      "Wall time: 177 ms\n"
     ]
    }
   ],
   "source": [
    "%%time\n",
    "dsets_aligned = xr.align(*dsets, join='inner')"
   ]
  },
  {
   "cell_type": "markdown",
   "metadata": {},
   "source": [
    "## Concatenate along ensemble dimension\n",
    "\n",
    "Now that we have the datasets aligned, we can concatenate along a new dimension: `member_id`."
   ]
  },
  {
   "cell_type": "code",
   "execution_count": 9,
   "metadata": {},
   "outputs": [
    {
     "name": "stdout",
     "output_type": "stream",
     "text": [
      "CPU times: user 66.9 ms, sys: 4.82 ms, total: 71.7 ms\n",
      "Wall time: 69.4 ms\n"
     ]
    }
   ],
   "source": [
    "%%time\n",
    "# use coords and static_vars from first dataset\n",
    "first = dsets_aligned[0]\n",
    "rest = [ds.reset_coords(drop=True) for ds in dsets_aligned[1:]]\n",
    "objs_to_concat = [first] + rest\n",
    "\n",
    "# concatenate\n",
    "ensemble_dim = xr.DataArray(member_ids, dims='member_id', name='member_id')\n",
    "ds = xr.concat(objs_to_concat, dim=ensemble_dim, coords='minimal')\n",
    "\n",
    "# restore non_dim_coords to variables\n",
    "non_dim_coords_reset = set(ds.coords) - set(ds.dims)\n",
    "ds = ds.reset_coords(non_dim_coords_reset)"
   ]
  },
  {
   "cell_type": "markdown",
   "metadata": {},
   "source": [
    "## Handle time\n",
    "\n",
    "CESM output has the time-stamp at the end of the averaging interval. This is problematic if we want to make selection on the basis of time, because the time-values end up belonging to the *next* month (or year, etc.). \n",
    "\n",
    "To account for this, we compute a new time-axis as the mid-point of the \"time bounds\" variable, making use of the `bounds` attribute to determine what this is.\n",
    "\n",
    "Once we have the mid-point computed, we can convert to a time object using the `cftime` function `num2date`, which includes support for calendars like `noleap`."
   ]
  },
  {
   "cell_type": "code",
   "execution_count": 10,
   "metadata": {},
   "outputs": [],
   "source": [
    "time_bound_var = ds.time.bounds\n",
    "time_bound_dim = ds[time_bound_var].dims[-1]\n",
    "time_mid_point = ds[time_bound_var].mean(dim=time_bound_dim)\n",
    "\n",
    "attrs = ds.time.attrs\n",
    "ds['time'] = cftime.num2date(time_mid_point, units=ds.time.units, calendar=ds.time.calendar)\n",
    "ds.time.attrs = attrs\n"
   ]
  },
  {
   "cell_type": "markdown",
   "metadata": {},
   "source": [
    "## Select a particular month\n",
    "\n",
    "We can use `xarray`'s indexing capability to select September."
   ]
  },
  {
   "cell_type": "code",
   "execution_count": 11,
   "metadata": {},
   "outputs": [],
   "source": [
    "ds_sep = ds.sel(time=ds['time.month']==9)"
   ]
  },
  {
   "cell_type": "markdown",
   "metadata": {},
   "source": [
    "## Compute ice extent\n",
    "\n",
    "Ice extent is defined as the area where sea ice concentration is greater that 15%. Here we use `xarray`'s [`where`](http://xarray.pydata.org/en/stable/generated/xarray.DataArray.where.html#xarray.DataArray.where) method."
   ]
  },
  {
   "cell_type": "code",
   "execution_count": 12,
   "metadata": {},
   "outputs": [
    {
     "name": "stdout",
     "output_type": "stream",
     "text": [
      "CPU times: user 32.8 s, sys: 2.5 s, total: 35.3 s\n",
      "Wall time: 34 s\n"
     ]
    }
   ],
   "source": [
    "%%time\n",
    "cm2_to_106km2 = 1e-16\n",
    "ds_sep_extent = xr.Dataset()\n",
    "ds_sep_extent['nh'] = ds_sep.TAREA.where((ds_sep.TLAT > 0) & (ds_sep.IFRAC > 0.15)).sum(['nlat', 'nlon']) * cm2_to_106km2\n",
    "ds_sep_extent['sh'] = ds_sep.TAREA.where((ds_sep.TLAT < 0) & (ds_sep.IFRAC > 0.15)).sum(['nlat', 'nlon']) * cm2_to_106km2\n",
    "\n",
    "ds_sep_extent = ds_sep_extent.compute()"
   ]
  },
  {
   "cell_type": "code",
   "execution_count": 13,
   "metadata": {},
   "outputs": [
    {
     "data": {
      "text/plain": [
       "<xarray.Dataset>\n",
       "Dimensions:    (member_id: 40, time: 181)\n",
       "Coordinates:\n",
       "  * time       (time) object 1920-09-16 00:00:00 ... 2100-09-16 00:00:00\n",
       "  * member_id  (member_id) int64 1 2 3 4 5 6 7 8 ... 34 35 101 102 103 104 105\n",
       "Data variables:\n",
       "    nh         (member_id, time) float64 8.764 8.211 8.321 ... 0.001941 0.0 0.0\n",
       "    sh         (member_id, time) float64 20.39 21.06 20.62 ... 11.22 10.65 11.27"
      ]
     },
     "execution_count": 13,
     "metadata": {},
     "output_type": "execute_result"
    }
   ],
   "source": [
    "ds_sep_extent"
   ]
  },
  {
   "cell_type": "markdown",
   "metadata": {},
   "source": [
    "## Load observations\n",
    "\n",
    "Read csv files of sea ice extent data downloaded from \n",
    "ftp://sidads.colorado.edu/DATASETS/NOAA/G02135/north/monthly/data\n",
    "ftp://sidads.colorado.edu/DATASETS/NOAA/G02135/south/monthly/data\n",
    "\n",
    "We uses `pandas.read_csv` to read these files into a `DataFrame`."
   ]
  },
  {
   "cell_type": "code",
   "execution_count": 14,
   "metadata": {},
   "outputs": [
    {
     "data": {
      "text/html": [
       "<div>\n",
       "<style scoped>\n",
       "    .dataframe tbody tr th:only-of-type {\n",
       "        vertical-align: middle;\n",
       "    }\n",
       "\n",
       "    .dataframe tbody tr th {\n",
       "        vertical-align: top;\n",
       "    }\n",
       "\n",
       "    .dataframe thead th {\n",
       "        text-align: right;\n",
       "    }\n",
       "</style>\n",
       "<table border=\"1\" class=\"dataframe\">\n",
       "  <thead>\n",
       "    <tr style=\"text-align: right;\">\n",
       "      <th></th>\n",
       "      <th>year</th>\n",
       "      <th>mo</th>\n",
       "      <th>data-type</th>\n",
       "      <th>region</th>\n",
       "      <th>extent</th>\n",
       "      <th>area</th>\n",
       "    </tr>\n",
       "  </thead>\n",
       "  <tbody>\n",
       "    <tr>\n",
       "      <th>0</th>\n",
       "      <td>1979</td>\n",
       "      <td>9</td>\n",
       "      <td>Goddard</td>\n",
       "      <td>N</td>\n",
       "      <td>7.05</td>\n",
       "      <td>4.58</td>\n",
       "    </tr>\n",
       "    <tr>\n",
       "      <th>1</th>\n",
       "      <td>1980</td>\n",
       "      <td>9</td>\n",
       "      <td>Goddard</td>\n",
       "      <td>N</td>\n",
       "      <td>7.67</td>\n",
       "      <td>4.87</td>\n",
       "    </tr>\n",
       "    <tr>\n",
       "      <th>2</th>\n",
       "      <td>1981</td>\n",
       "      <td>9</td>\n",
       "      <td>Goddard</td>\n",
       "      <td>N</td>\n",
       "      <td>7.14</td>\n",
       "      <td>4.44</td>\n",
       "    </tr>\n",
       "    <tr>\n",
       "      <th>3</th>\n",
       "      <td>1982</td>\n",
       "      <td>9</td>\n",
       "      <td>Goddard</td>\n",
       "      <td>N</td>\n",
       "      <td>7.30</td>\n",
       "      <td>4.43</td>\n",
       "    </tr>\n",
       "    <tr>\n",
       "      <th>4</th>\n",
       "      <td>1983</td>\n",
       "      <td>9</td>\n",
       "      <td>Goddard</td>\n",
       "      <td>N</td>\n",
       "      <td>7.39</td>\n",
       "      <td>4.70</td>\n",
       "    </tr>\n",
       "  </tbody>\n",
       "</table>\n",
       "</div>"
      ],
      "text/plain": [
       "   year  mo data-type region  extent  area\n",
       "0  1979   9   Goddard      N    7.05  4.58\n",
       "1  1980   9   Goddard      N    7.67  4.87\n",
       "2  1981   9   Goddard      N    7.14  4.44\n",
       "3  1982   9   Goddard      N    7.30  4.43\n",
       "4  1983   9   Goddard      N    7.39  4.70"
      ]
     },
     "execution_count": 14,
     "metadata": {},
     "output_type": "execute_result"
    }
   ],
   "source": [
    "obs = {'nh': pd.read_csv('N_09_extent_v3.0.csv', sep='\\s*,\\s*', engine='python'),\n",
    "       'sh': pd.read_csv('S_09_extent_v3.0.csv', sep='\\s*,\\s*', engine='python')}\n",
    "obs['nh'].head()"
   ]
  },
  {
   "cell_type": "markdown",
   "metadata": {},
   "source": [
    "## Make a plot"
   ]
  },
  {
   "cell_type": "code",
   "execution_count": 15,
   "metadata": {},
   "outputs": [
    {
     "data": {
      "image/png": "[encoded data removed]",
      "text/plain": [
       "<Figure size 432x604.8 with 2 Axes>"
      ]
     },
     "metadata": {
      "needs_background": "light"
     },
     "output_type": "display_data"
    }
   ],
   "source": [
    "# set some colors\n",
    "c = {'cesmlea': '#1f78b4', \n",
    "     'cesmle': '#a6cee3', \n",
    "     'obs': '#e41a1c'}\n",
    "\n",
    "# specify the xtick locations\n",
    "xtick = [1920] + list(np.arange(1950,2125,25))\n",
    "xticklbl = [f'{y:0d}' for y in xtick]\n",
    "\n",
    "# create figure\n",
    "fig = plt.figure(figsize=(5*1.2,7*1.2))\n",
    "\n",
    "# loop over hemisphere and plot sea-ice extent for each\n",
    "for i, v in enumerate(['nh', 'sh']):\n",
    "    \n",
    "    # add axes\n",
    "    ax = ax = fig.add_subplot(2,1,i+1)\n",
    "    \n",
    "    # plot each ensemble member\n",
    "    for ens in member_ids:\n",
    "        pe = ax.plot(ds_sep_extent['time.year'], ds_sep_extent[v].sel(member_id=ens),\n",
    "                     color=c['cesmle'], linewidth=0.5, label='CESM-LE')        \n",
    "\n",
    "    # plot the ensemble mean\n",
    "    pea = ax.plot(ds_sep_extent['time.year'], ds_sep_extent[v].mean('member_id'),\n",
    "                  color=c['cesmlea'], linewidth=2., label='<CESM-LE>')\n",
    "    \n",
    "    # plot the observations\n",
    "    po = ax.plot(obs[v].year, obs[v].extent, linewidth=1.5, color=c['obs'], marker='.', \n",
    "                 markersize=6,label='Obs')\n",
    "    \n",
    "    # ticks, labels and legend\n",
    "    ax.set_xticks(xtick)\n",
    "    ax.set_xticklabels(xticklbl)\n",
    "    if i == 0:\n",
    "        ax.set_xticklabels([])\n",
    "        plt.legend([po[0], pe[0], pea[0]] ,['Obs', 'CESM-LE', '<CESM-LE>'])\n",
    "\n",
    "    ax.set_ylabel(f'{v.upper()} Sea ice extent [km$^{2}$]')\n",
    "    ylm = ax.get_ylim()\n",
    "    fuzz = np.diff(ylm)*0.05\n",
    "    ytick = [y for y in ax.get_yticks() if ylm[0] < y and y < ylm[1]]\n",
    "\n",
    "    # \"despine\" the axis\n",
    "    ax.spines['left'].set_bounds(ytick[0],ytick[-1]+fuzz)\n",
    "    # Hide the right and top spines\n",
    "    ax.spines['right'].set_visible(False)\n",
    "    ax.spines['top'].set_visible(False)\n",
    "\n",
    "# move the plots a little closer together\n",
    "fig.subplots_adjust(hspace=0.05)"
   ]
  },
  {
   "cell_type": "code",
   "execution_count": 16,
   "metadata": {},
   "outputs": [],
   "source": [
    "cluster.close()\n",
    "client.close()"
   ]
  }
 ],
 "metadata": {
  "kernelspec": {
   "display_name": "Python [conda env:analysis]",
   "language": "python",
   "name": "conda-env-analysis-py"
  },
  "language_info": {
   "codemirror_mode": {
    "name": "ipython",
    "version": 3
   },
   "file_extension": ".py",
   "mimetype": "text/x-python",
   "name": "python",
   "nbconvert_exporter": "python",
   "pygments_lexer": "ipython3",
   "version": "3.7.3"
  }
 },
 "nbformat": 4,
 "nbformat_minor": 2
}
